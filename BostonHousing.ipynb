{
 "cells": [
  {
   "cell_type": "code",
   "execution_count": 1,
   "id": "e2bbc603",
   "metadata": {},
   "outputs": [],
   "source": [
    "import numpy as np\n",
    "import pandas as pd\n",
    "import pickle\n",
    "\n",
    "import matplotlib.pyplot as plt\n",
    "plt.rcParams['axes.edgecolor']='black'\n",
    "plt.rcParams['axes.linewidth']=1\n",
    "plt.rcParams['boxplot.meanline']=True\n",
    "import seaborn as sns\n",
    "sns.set_style('white')\n",
    "\n",
    "import scipy.stats as stats\n",
    "from sklearn.datasets import load_boston\n",
    "\n",
    "import warnings\n",
    "warnings.filterwarnings('ignore')"
   ]
  },
  {
   "cell_type": "code",
   "execution_count": 2,
   "id": "c8b5f97c",
   "metadata": {},
   "outputs": [
    {
     "data": {
      "text/html": [
       "<div>\n",
       "<style scoped>\n",
       "    .dataframe tbody tr th:only-of-type {\n",
       "        vertical-align: middle;\n",
       "    }\n",
       "\n",
       "    .dataframe tbody tr th {\n",
       "        vertical-align: top;\n",
       "    }\n",
       "\n",
       "    .dataframe thead th {\n",
       "        text-align: right;\n",
       "    }\n",
       "</style>\n",
       "<table border=\"1\" class=\"dataframe\">\n",
       "  <thead>\n",
       "    <tr style=\"text-align: right;\">\n",
       "      <th></th>\n",
       "      <th>CRIM</th>\n",
       "      <th>ZN</th>\n",
       "      <th>INDUS</th>\n",
       "      <th>CHAS</th>\n",
       "      <th>NOX</th>\n",
       "      <th>RM</th>\n",
       "      <th>AGE</th>\n",
       "      <th>DIS</th>\n",
       "      <th>RAD</th>\n",
       "      <th>TAX</th>\n",
       "      <th>PTRATIO</th>\n",
       "      <th>B</th>\n",
       "      <th>LSTAT</th>\n",
       "      <th>MEDV</th>\n",
       "    </tr>\n",
       "  </thead>\n",
       "  <tbody>\n",
       "    <tr>\n",
       "      <th>0</th>\n",
       "      <td>0.00632</td>\n",
       "      <td>18.0</td>\n",
       "      <td>2.31</td>\n",
       "      <td>0.0</td>\n",
       "      <td>0.538</td>\n",
       "      <td>6.575</td>\n",
       "      <td>65.2</td>\n",
       "      <td>4.0900</td>\n",
       "      <td>1.0</td>\n",
       "      <td>296.0</td>\n",
       "      <td>15.3</td>\n",
       "      <td>396.90</td>\n",
       "      <td>4.98</td>\n",
       "      <td>24.0</td>\n",
       "    </tr>\n",
       "    <tr>\n",
       "      <th>1</th>\n",
       "      <td>0.02731</td>\n",
       "      <td>0.0</td>\n",
       "      <td>7.07</td>\n",
       "      <td>0.0</td>\n",
       "      <td>0.469</td>\n",
       "      <td>6.421</td>\n",
       "      <td>78.9</td>\n",
       "      <td>4.9671</td>\n",
       "      <td>2.0</td>\n",
       "      <td>242.0</td>\n",
       "      <td>17.8</td>\n",
       "      <td>396.90</td>\n",
       "      <td>9.14</td>\n",
       "      <td>21.6</td>\n",
       "    </tr>\n",
       "    <tr>\n",
       "      <th>2</th>\n",
       "      <td>0.02729</td>\n",
       "      <td>0.0</td>\n",
       "      <td>7.07</td>\n",
       "      <td>0.0</td>\n",
       "      <td>0.469</td>\n",
       "      <td>7.185</td>\n",
       "      <td>61.1</td>\n",
       "      <td>4.9671</td>\n",
       "      <td>2.0</td>\n",
       "      <td>242.0</td>\n",
       "      <td>17.8</td>\n",
       "      <td>392.83</td>\n",
       "      <td>4.03</td>\n",
       "      <td>34.7</td>\n",
       "    </tr>\n",
       "  </tbody>\n",
       "</table>\n",
       "</div>"
      ],
      "text/plain": [
       "      CRIM    ZN  INDUS  CHAS    NOX     RM   AGE     DIS  RAD    TAX  \\\n",
       "0  0.00632  18.0   2.31   0.0  0.538  6.575  65.2  4.0900  1.0  296.0   \n",
       "1  0.02731   0.0   7.07   0.0  0.469  6.421  78.9  4.9671  2.0  242.0   \n",
       "2  0.02729   0.0   7.07   0.0  0.469  7.185  61.1  4.9671  2.0  242.0   \n",
       "\n",
       "   PTRATIO       B  LSTAT  MEDV  \n",
       "0     15.3  396.90   4.98  24.0  \n",
       "1     17.8  396.90   9.14  21.6  \n",
       "2     17.8  392.83   4.03  34.7  "
      ]
     },
     "execution_count": 2,
     "metadata": {},
     "output_type": "execute_result"
    }
   ],
   "source": [
    "from sklearn.datasets import load_boston\n",
    "data = load_boston()\n",
    "boston_df = pd.DataFrame(data.data, \n",
    "                         columns=data['feature_names'])\n",
    "boston_df['MEDV'] = data['target']\n",
    "boston_df.head(3)"
   ]
  },
  {
   "cell_type": "code",
   "execution_count": 3,
   "id": "a2a37074",
   "metadata": {},
   "outputs": [],
   "source": [
    "# Saving the training file to the local file system\n",
    "boston_df.to_csv(\"train.csv\")"
   ]
  },
  {
   "cell_type": "code",
   "execution_count": 4,
   "id": "139a5f2a",
   "metadata": {},
   "outputs": [],
   "source": [
    "df = boston_df.copy()\n",
    "X = df.drop(columns=['MEDV'], axis=1)\n",
    "y = df['MEDV']"
   ]
  },
  {
   "cell_type": "code",
   "execution_count": 5,
   "id": "cf1fa748",
   "metadata": {},
   "outputs": [
    {
     "name": "stdout",
     "output_type": "stream",
     "text": [
      "<class 'pandas.core.frame.DataFrame'>\n",
      "RangeIndex: 506 entries, 0 to 505\n",
      "Data columns (total 14 columns):\n",
      " #   Column   Non-Null Count  Dtype  \n",
      "---  ------   --------------  -----  \n",
      " 0   CRIM     506 non-null    float64\n",
      " 1   ZN       506 non-null    float64\n",
      " 2   INDUS    506 non-null    float64\n",
      " 3   CHAS     506 non-null    float64\n",
      " 4   NOX      506 non-null    float64\n",
      " 5   RM       506 non-null    float64\n",
      " 6   AGE      506 non-null    float64\n",
      " 7   DIS      506 non-null    float64\n",
      " 8   RAD      506 non-null    float64\n",
      " 9   TAX      506 non-null    float64\n",
      " 10  PTRATIO  506 non-null    float64\n",
      " 11  B        506 non-null    float64\n",
      " 12  LSTAT    506 non-null    float64\n",
      " 13  MEDV     506 non-null    float64\n",
      "dtypes: float64(14)\n",
      "memory usage: 55.5 KB\n"
     ]
    }
   ],
   "source": [
    "# Checking data info\n",
    "df.info()"
   ]
  },
  {
   "cell_type": "code",
   "execution_count": 6,
   "id": "ac504d6a",
   "metadata": {},
   "outputs": [
    {
     "name": "stdout",
     "output_type": "stream",
     "text": [
      "No of duplicate values in the dataset:  0\n"
     ]
    }
   ],
   "source": [
    "# Checking duplicates\n",
    "print(\"No of duplicate values in the dataset: \", df.duplicated().sum())"
   ]
  },
  {
   "cell_type": "code",
   "execution_count": 7,
   "id": "75a97cc2",
   "metadata": {},
   "outputs": [
    {
     "name": "stdout",
     "output_type": "stream",
     "text": [
      "No of constant features:  0\n"
     ]
    }
   ],
   "source": [
    "# Checking for constant features\n",
    "print(\"No of constant features: \", len([col for col in df if df[col].nunique==1]))"
   ]
  },
  {
   "cell_type": "code",
   "execution_count": 8,
   "id": "d9eb648f",
   "metadata": {},
   "outputs": [
    {
     "name": "stdout",
     "output_type": "stream",
     "text": [
      "Features with variance < 0.1:  ['CHAS', 'NOX']\n"
     ]
    }
   ],
   "source": [
    "# Checking for features with variance < 0.1\n",
    "low_var=[]\n",
    "for col in df:\n",
    "    if df[col].var()<0.1:\n",
    "        low_var.append(col)\n",
    "        \n",
    "print(\"Features with variance < 0.1: \", low_var)"
   ]
  },
  {
   "cell_type": "code",
   "execution_count": 9,
   "id": "56f41372",
   "metadata": {},
   "outputs": [
    {
     "data": {
      "image/png": "[encoded data removed]",
      "text/plain": [
       "<Figure size 504x216 with 2 Axes>"
      ]
     },
     "metadata": {},
     "output_type": "display_data"
    }
   ],
   "source": [
    "df[low_var].hist(figsize=(7,3));"
   ]
  },
  {
   "cell_type": "code",
   "execution_count": 10,
   "id": "d6113cc5",
   "metadata": {},
   "outputs": [
    {
     "name": "stdout",
     "output_type": "stream",
     "text": [
      "Total missing values in the dataset:  0\n"
     ]
    }
   ],
   "source": [
    "# Checking for missing values\n",
    "print(\"Total missing values in the dataset: \", df.isnull().sum().sum())"
   ]
  },
  {
   "cell_type": "code",
   "execution_count": 11,
   "id": "0c170860",
   "metadata": {},
   "outputs": [
    {
     "data": {
      "text/plain": [
       "['CRIM',\n",
       " 'ZN',\n",
       " 'INDUS',\n",
       " 'CHAS',\n",
       " 'NOX',\n",
       " 'RM',\n",
       " 'AGE',\n",
       " 'DIS',\n",
       " 'RAD',\n",
       " 'TAX',\n",
       " 'PTRATIO',\n",
       " 'B',\n",
       " 'LSTAT',\n",
       " 'MEDV']"
      ]
     },
     "execution_count": 11,
     "metadata": {},
     "output_type": "execute_result"
    }
   ],
   "source": [
    "# Exploring Numerical features\n",
    "numericalFeatures=[feat for feat in df.columns if df[feat].dtypes!='object']\n",
    "numericalFeatures"
   ]
  },
  {
   "cell_type": "code",
   "execution_count": 12,
   "id": "b9373c25",
   "metadata": {},
   "outputs": [
    {
     "data": {
      "text/plain": [
       "['CHAS', 'RAD']"
      ]
     },
     "execution_count": 12,
     "metadata": {},
     "output_type": "execute_result"
    }
   ],
   "source": [
    "# Discrete Features\n",
    "discreteFeatures = [feat for feat in numericalFeatures if df[feat].nunique()<25]\n",
    "discreteFeatures"
   ]
  },
  {
   "cell_type": "code",
   "execution_count": 13,
   "id": "af165971",
   "metadata": {},
   "outputs": [],
   "source": [
    "# Changing dtype of discrete features to category\n",
    "for feat in discreteFeatures:\n",
    "    df[feat] = df[feat].astype('category')"
   ]
  },
  {
   "cell_type": "code",
   "execution_count": 14,
   "id": "0696cb61",
   "metadata": {},
   "outputs": [
    {
     "data": {
      "text/plain": [
       "['CRIM',\n",
       " 'ZN',\n",
       " 'INDUS',\n",
       " 'NOX',\n",
       " 'RM',\n",
       " 'AGE',\n",
       " 'DIS',\n",
       " 'TAX',\n",
       " 'PTRATIO',\n",
       " 'B',\n",
       " 'LSTAT',\n",
       " 'MEDV']"
      ]
     },
     "execution_count": 14,
     "metadata": {},
     "output_type": "execute_result"
    }
   ],
   "source": [
    "continuousFeatures = [feat for feat in numericalFeatures if feat not in discreteFeatures]\n",
    "continuousFeatures"
   ]
  },
  {
   "cell_type": "code",
   "execution_count": 15,
   "id": "8e548ca0",
   "metadata": {},
   "outputs": [
    {
     "data": {
      "text/html": [
       "<style type=\"text/css\">\n",
       "#T_94e27_row0_col0, #T_94e27_row0_col3, #T_94e27_row0_col4, #T_94e27_row0_col5, #T_94e27_row1_col0, #T_94e27_row1_col3, #T_94e27_row1_col4, #T_94e27_row1_col5, #T_94e27_row2_col0, #T_94e27_row3_col0, #T_94e27_row3_col1, #T_94e27_row3_col2, #T_94e27_row3_col4, #T_94e27_row3_col5, #T_94e27_row3_col6, #T_94e27_row3_col7, #T_94e27_row4_col0, #T_94e27_row5_col0, #T_94e27_row6_col0, #T_94e27_row7_col0, #T_94e27_row7_col1, #T_94e27_row7_col2, #T_94e27_row7_col3, #T_94e27_row7_col6, #T_94e27_row7_col7, #T_94e27_row8_col0, #T_94e27_row9_col0, #T_94e27_row9_col3, #T_94e27_row9_col4, #T_94e27_row9_col5, #T_94e27_row10_col0, #T_94e27_row11_col0 {\n",
       "  background-color: #e2d9e2;\n",
       "  color: #000000;\n",
       "}\n",
       "#T_94e27_row0_col1, #T_94e27_row4_col6, #T_94e27_row6_col1, #T_94e27_row6_col3, #T_94e27_row6_col5, #T_94e27_row6_col6, #T_94e27_row10_col3 {\n",
       "  background-color: #e0d9e2;\n",
       "  color: #000000;\n",
       "}\n",
       "#T_94e27_row0_col2 {\n",
       "  background-color: #ccd2d8;\n",
       "  color: #000000;\n",
       "}\n",
       "#T_94e27_row0_col6, #T_94e27_row2_col3, #T_94e27_row3_col3, #T_94e27_row4_col2, #T_94e27_row6_col4 {\n",
       "  background-color: #e1d9e2;\n",
       "  color: #000000;\n",
       "}\n",
       "#T_94e27_row0_col7 {\n",
       "  background-color: #95b5c7;\n",
       "  color: #000000;\n",
       "}\n",
       "#T_94e27_row1_col1, #T_94e27_row2_col1, #T_94e27_row2_col6, #T_94e27_row11_col3 {\n",
       "  background-color: #d9d8de;\n",
       "  color: #000000;\n",
       "}\n",
       "#T_94e27_row1_col2 {\n",
       "  background-color: #8cafc5;\n",
       "  color: #f1f1f1;\n",
       "}\n",
       "#T_94e27_row1_col6, #T_94e27_row4_col3, #T_94e27_row10_col4 {\n",
       "  background-color: #dcd9e0;\n",
       "  color: #000000;\n",
       "}\n",
       "#T_94e27_row1_col7, #T_94e27_row5_col6, #T_94e27_row5_col7 {\n",
       "  background-color: #8aaec5;\n",
       "  color: #f1f1f1;\n",
       "}\n",
       "#T_94e27_row2_col2 {\n",
       "  background-color: #d2d5db;\n",
       "  color: #000000;\n",
       "}\n",
       "#T_94e27_row2_col4, #T_94e27_row4_col1, #T_94e27_row4_col4, #T_94e27_row5_col3, #T_94e27_row6_col2, #T_94e27_row8_col2 {\n",
       "  background-color: #ded9e1;\n",
       "  color: #000000;\n",
       "}\n",
       "#T_94e27_row2_col5, #T_94e27_row10_col6 {\n",
       "  background-color: #dad8df;\n",
       "  color: #000000;\n",
       "}\n",
       "#T_94e27_row2_col7 {\n",
       "  background-color: #d3d6db;\n",
       "  color: #000000;\n",
       "}\n",
       "#T_94e27_row4_col5, #T_94e27_row6_col7 {\n",
       "  background-color: #ddd9e0;\n",
       "  color: #000000;\n",
       "}\n",
       "#T_94e27_row4_col7 {\n",
       "  background-color: #dfd9e1;\n",
       "  color: #000000;\n",
       "}\n",
       "#T_94e27_row5_col1 {\n",
       "  background-color: #7ba1c2;\n",
       "  color: #f1f1f1;\n",
       "}\n",
       "#T_94e27_row5_col2 {\n",
       "  background-color: #7ca2c2;\n",
       "  color: #f1f1f1;\n",
       "}\n",
       "#T_94e27_row5_col4 {\n",
       "  background-color: #97b7c7;\n",
       "  color: #000000;\n",
       "}\n",
       "#T_94e27_row5_col5 {\n",
       "  background-color: #6e92c0;\n",
       "  color: #f1f1f1;\n",
       "}\n",
       "#T_94e27_row7_col4 {\n",
       "  background-color: #b05351;\n",
       "  color: #f1f1f1;\n",
       "}\n",
       "#T_94e27_row7_col5 {\n",
       "  background-color: #c78f72;\n",
       "  color: #f1f1f1;\n",
       "}\n",
       "#T_94e27_row8_col1 {\n",
       "  background-color: #d0d4d9;\n",
       "  color: #000000;\n",
       "}\n",
       "#T_94e27_row8_col3 {\n",
       "  background-color: #bfccd3;\n",
       "  color: #000000;\n",
       "}\n",
       "#T_94e27_row8_col4, #T_94e27_row11_col4 {\n",
       "  background-color: #ced3d9;\n",
       "  color: #000000;\n",
       "}\n",
       "#T_94e27_row8_col5 {\n",
       "  background-color: #cdd3d8;\n",
       "  color: #000000;\n",
       "}\n",
       "#T_94e27_row8_col6, #T_94e27_row8_col7, #T_94e27_row10_col1 {\n",
       "  background-color: #d7d7dd;\n",
       "  color: #000000;\n",
       "}\n",
       "#T_94e27_row9_col1 {\n",
       "  background-color: #cca287;\n",
       "  color: #f1f1f1;\n",
       "}\n",
       "#T_94e27_row9_col2 {\n",
       "  background-color: #3f123d;\n",
       "  color: #f1f1f1;\n",
       "}\n",
       "#T_94e27_row9_col6 {\n",
       "  background-color: #60184a;\n",
       "  color: #f1f1f1;\n",
       "}\n",
       "#T_94e27_row9_col7 {\n",
       "  background-color: #481341;\n",
       "  color: #f1f1f1;\n",
       "}\n",
       "#T_94e27_row10_col2 {\n",
       "  background-color: #d1d5da;\n",
       "  color: #000000;\n",
       "}\n",
       "#T_94e27_row10_col5 {\n",
       "  background-color: #d8d8de;\n",
       "  color: #000000;\n",
       "}\n",
       "#T_94e27_row10_col7 {\n",
       "  background-color: #cbd2d7;\n",
       "  color: #000000;\n",
       "}\n",
       "#T_94e27_row11_col1, #T_94e27_row11_col2, #T_94e27_row11_col5 {\n",
       "  background-color: #c9d1d7;\n",
       "  color: #000000;\n",
       "}\n",
       "#T_94e27_row11_col6 {\n",
       "  background-color: #d4d6dc;\n",
       "  color: #000000;\n",
       "}\n",
       "#T_94e27_row11_col7 {\n",
       "  background-color: #beccd2;\n",
       "  color: #000000;\n",
       "}\n",
       "</style>\n",
       "<table id=\"T_94e27_\">\n",
       "  <thead>\n",
       "    <tr>\n",
       "      <th class=\"blank level0\" >&nbsp;</th>\n",
       "      <th class=\"col_heading level0 col0\" >count</th>\n",
       "      <th class=\"col_heading level0 col1\" >mean</th>\n",
       "      <th class=\"col_heading level0 col2\" >std</th>\n",
       "      <th class=\"col_heading level0 col3\" >min</th>\n",
       "      <th class=\"col_heading level0 col4\" >25%</th>\n",
       "      <th class=\"col_heading level0 col5\" >50%</th>\n",
       "      <th class=\"col_heading level0 col6\" >75%</th>\n",
       "      <th class=\"col_heading level0 col7\" >max</th>\n",
       "    </tr>\n",
       "  </thead>\n",
       "  <tbody>\n",
       "    <tr>\n",
       "      <th id=\"T_94e27_level0_row0\" class=\"row_heading level0 row0\" >CRIM</th>\n",
       "      <td id=\"T_94e27_row0_col0\" class=\"data row0 col0\" >506.000000</td>\n",
       "      <td id=\"T_94e27_row0_col1\" class=\"data row0 col1\" >3.613524</td>\n",
       "      <td id=\"T_94e27_row0_col2\" class=\"data row0 col2\" >8.601545</td>\n",
       "      <td id=\"T_94e27_row0_col3\" class=\"data row0 col3\" >0.006320</td>\n",
       "      <td id=\"T_94e27_row0_col4\" class=\"data row0 col4\" >0.082045</td>\n",
       "      <td id=\"T_94e27_row0_col5\" class=\"data row0 col5\" >0.256510</td>\n",
       "      <td id=\"T_94e27_row0_col6\" class=\"data row0 col6\" >3.677083</td>\n",
       "      <td id=\"T_94e27_row0_col7\" class=\"data row0 col7\" >88.976200</td>\n",
       "    </tr>\n",
       "    <tr>\n",
       "      <th id=\"T_94e27_level0_row1\" class=\"row_heading level0 row1\" >ZN</th>\n",
       "      <td id=\"T_94e27_row1_col0\" class=\"data row1 col0\" >506.000000</td>\n",
       "      <td id=\"T_94e27_row1_col1\" class=\"data row1 col1\" >11.363636</td>\n",
       "      <td id=\"T_94e27_row1_col2\" class=\"data row1 col2\" >23.322453</td>\n",
       "      <td id=\"T_94e27_row1_col3\" class=\"data row1 col3\" >0.000000</td>\n",
       "      <td id=\"T_94e27_row1_col4\" class=\"data row1 col4\" >0.000000</td>\n",
       "      <td id=\"T_94e27_row1_col5\" class=\"data row1 col5\" >0.000000</td>\n",
       "      <td id=\"T_94e27_row1_col6\" class=\"data row1 col6\" >12.500000</td>\n",
       "      <td id=\"T_94e27_row1_col7\" class=\"data row1 col7\" >100.000000</td>\n",
       "    </tr>\n",
       "    <tr>\n",
       "      <th id=\"T_94e27_level0_row2\" class=\"row_heading level0 row2\" >INDUS</th>\n",
       "      <td id=\"T_94e27_row2_col0\" class=\"data row2 col0\" >506.000000</td>\n",
       "      <td id=\"T_94e27_row2_col1\" class=\"data row2 col1\" >11.136779</td>\n",
       "      <td id=\"T_94e27_row2_col2\" class=\"data row2 col2\" >6.860353</td>\n",
       "      <td id=\"T_94e27_row2_col3\" class=\"data row2 col3\" >0.460000</td>\n",
       "      <td id=\"T_94e27_row2_col4\" class=\"data row2 col4\" >5.190000</td>\n",
       "      <td id=\"T_94e27_row2_col5\" class=\"data row2 col5\" >9.690000</td>\n",
       "      <td id=\"T_94e27_row2_col6\" class=\"data row2 col6\" >18.100000</td>\n",
       "      <td id=\"T_94e27_row2_col7\" class=\"data row2 col7\" >27.740000</td>\n",
       "    </tr>\n",
       "    <tr>\n",
       "      <th id=\"T_94e27_level0_row3\" class=\"row_heading level0 row3\" >NOX</th>\n",
       "      <td id=\"T_94e27_row3_col0\" class=\"data row3 col0\" >506.000000</td>\n",
       "      <td id=\"T_94e27_row3_col1\" class=\"data row3 col1\" >0.554695</td>\n",
       "      <td id=\"T_94e27_row3_col2\" class=\"data row3 col2\" >0.115878</td>\n",
       "      <td id=\"T_94e27_row3_col3\" class=\"data row3 col3\" >0.385000</td>\n",
       "      <td id=\"T_94e27_row3_col4\" class=\"data row3 col4\" >0.449000</td>\n",
       "      <td id=\"T_94e27_row3_col5\" class=\"data row3 col5\" >0.538000</td>\n",
       "      <td id=\"T_94e27_row3_col6\" class=\"data row3 col6\" >0.624000</td>\n",
       "      <td id=\"T_94e27_row3_col7\" class=\"data row3 col7\" >0.871000</td>\n",
       "    </tr>\n",
       "    <tr>\n",
       "      <th id=\"T_94e27_level0_row4\" class=\"row_heading level0 row4\" >RM</th>\n",
       "      <td id=\"T_94e27_row4_col0\" class=\"data row4 col0\" >506.000000</td>\n",
       "      <td id=\"T_94e27_row4_col1\" class=\"data row4 col1\" >6.284634</td>\n",
       "      <td id=\"T_94e27_row4_col2\" class=\"data row4 col2\" >0.702617</td>\n",
       "      <td id=\"T_94e27_row4_col3\" class=\"data row4 col3\" >3.561000</td>\n",
       "      <td id=\"T_94e27_row4_col4\" class=\"data row4 col4\" >5.885500</td>\n",
       "      <td id=\"T_94e27_row4_col5\" class=\"data row4 col5\" >6.208500</td>\n",
       "      <td id=\"T_94e27_row4_col6\" class=\"data row4 col6\" >6.623500</td>\n",
       "      <td id=\"T_94e27_row4_col7\" class=\"data row4 col7\" >8.780000</td>\n",
       "    </tr>\n",
       "    <tr>\n",
       "      <th id=\"T_94e27_level0_row5\" class=\"row_heading level0 row5\" >AGE</th>\n",
       "      <td id=\"T_94e27_row5_col0\" class=\"data row5 col0\" >506.000000</td>\n",
       "      <td id=\"T_94e27_row5_col1\" class=\"data row5 col1\" >68.574901</td>\n",
       "      <td id=\"T_94e27_row5_col2\" class=\"data row5 col2\" >28.148861</td>\n",
       "      <td id=\"T_94e27_row5_col3\" class=\"data row5 col3\" >2.900000</td>\n",
       "      <td id=\"T_94e27_row5_col4\" class=\"data row5 col4\" >45.025000</td>\n",
       "      <td id=\"T_94e27_row5_col5\" class=\"data row5 col5\" >77.500000</td>\n",
       "      <td id=\"T_94e27_row5_col6\" class=\"data row5 col6\" >94.075000</td>\n",
       "      <td id=\"T_94e27_row5_col7\" class=\"data row5 col7\" >100.000000</td>\n",
       "    </tr>\n",
       "    <tr>\n",
       "      <th id=\"T_94e27_level0_row6\" class=\"row_heading level0 row6\" >DIS</th>\n",
       "      <td id=\"T_94e27_row6_col0\" class=\"data row6 col0\" >506.000000</td>\n",
       "      <td id=\"T_94e27_row6_col1\" class=\"data row6 col1\" >3.795043</td>\n",
       "      <td id=\"T_94e27_row6_col2\" class=\"data row6 col2\" >2.105710</td>\n",
       "      <td id=\"T_94e27_row6_col3\" class=\"data row6 col3\" >1.129600</td>\n",
       "      <td id=\"T_94e27_row6_col4\" class=\"data row6 col4\" >2.100175</td>\n",
       "      <td id=\"T_94e27_row6_col5\" class=\"data row6 col5\" >3.207450</td>\n",
       "      <td id=\"T_94e27_row6_col6\" class=\"data row6 col6\" >5.188425</td>\n",
       "      <td id=\"T_94e27_row6_col7\" class=\"data row6 col7\" >12.126500</td>\n",
       "    </tr>\n",
       "    <tr>\n",
       "      <th id=\"T_94e27_level0_row7\" class=\"row_heading level0 row7\" >TAX</th>\n",
       "      <td id=\"T_94e27_row7_col0\" class=\"data row7 col0\" >506.000000</td>\n",
       "      <td id=\"T_94e27_row7_col1\" class=\"data row7 col1\" >408.237154</td>\n",
       "      <td id=\"T_94e27_row7_col2\" class=\"data row7 col2\" >168.537116</td>\n",
       "      <td id=\"T_94e27_row7_col3\" class=\"data row7 col3\" >187.000000</td>\n",
       "      <td id=\"T_94e27_row7_col4\" class=\"data row7 col4\" >279.000000</td>\n",
       "      <td id=\"T_94e27_row7_col5\" class=\"data row7 col5\" >330.000000</td>\n",
       "      <td id=\"T_94e27_row7_col6\" class=\"data row7 col6\" >666.000000</td>\n",
       "      <td id=\"T_94e27_row7_col7\" class=\"data row7 col7\" >711.000000</td>\n",
       "    </tr>\n",
       "    <tr>\n",
       "      <th id=\"T_94e27_level0_row8\" class=\"row_heading level0 row8\" >PTRATIO</th>\n",
       "      <td id=\"T_94e27_row8_col0\" class=\"data row8 col0\" >506.000000</td>\n",
       "      <td id=\"T_94e27_row8_col1\" class=\"data row8 col1\" >18.455534</td>\n",
       "      <td id=\"T_94e27_row8_col2\" class=\"data row8 col2\" >2.164946</td>\n",
       "      <td id=\"T_94e27_row8_col3\" class=\"data row8 col3\" >12.600000</td>\n",
       "      <td id=\"T_94e27_row8_col4\" class=\"data row8 col4\" >17.400000</td>\n",
       "      <td id=\"T_94e27_row8_col5\" class=\"data row8 col5\" >19.050000</td>\n",
       "      <td id=\"T_94e27_row8_col6\" class=\"data row8 col6\" >20.200000</td>\n",
       "      <td id=\"T_94e27_row8_col7\" class=\"data row8 col7\" >22.000000</td>\n",
       "    </tr>\n",
       "    <tr>\n",
       "      <th id=\"T_94e27_level0_row9\" class=\"row_heading level0 row9\" >B</th>\n",
       "      <td id=\"T_94e27_row9_col0\" class=\"data row9 col0\" >506.000000</td>\n",
       "      <td id=\"T_94e27_row9_col1\" class=\"data row9 col1\" >356.674032</td>\n",
       "      <td id=\"T_94e27_row9_col2\" class=\"data row9 col2\" >91.294864</td>\n",
       "      <td id=\"T_94e27_row9_col3\" class=\"data row9 col3\" >0.320000</td>\n",
       "      <td id=\"T_94e27_row9_col4\" class=\"data row9 col4\" >375.377500</td>\n",
       "      <td id=\"T_94e27_row9_col5\" class=\"data row9 col5\" >391.440000</td>\n",
       "      <td id=\"T_94e27_row9_col6\" class=\"data row9 col6\" >396.225000</td>\n",
       "      <td id=\"T_94e27_row9_col7\" class=\"data row9 col7\" >396.900000</td>\n",
       "    </tr>\n",
       "    <tr>\n",
       "      <th id=\"T_94e27_level0_row10\" class=\"row_heading level0 row10\" >LSTAT</th>\n",
       "      <td id=\"T_94e27_row10_col0\" class=\"data row10 col0\" >506.000000</td>\n",
       "      <td id=\"T_94e27_row10_col1\" class=\"data row10 col1\" >12.653063</td>\n",
       "      <td id=\"T_94e27_row10_col2\" class=\"data row10 col2\" >7.141062</td>\n",
       "      <td id=\"T_94e27_row10_col3\" class=\"data row10 col3\" >1.730000</td>\n",
       "      <td id=\"T_94e27_row10_col4\" class=\"data row10 col4\" >6.950000</td>\n",
       "      <td id=\"T_94e27_row10_col5\" class=\"data row10 col5\" >11.360000</td>\n",
       "      <td id=\"T_94e27_row10_col6\" class=\"data row10 col6\" >16.955000</td>\n",
       "      <td id=\"T_94e27_row10_col7\" class=\"data row10 col7\" >37.970000</td>\n",
       "    </tr>\n",
       "    <tr>\n",
       "      <th id=\"T_94e27_level0_row11\" class=\"row_heading level0 row11\" >MEDV</th>\n",
       "      <td id=\"T_94e27_row11_col0\" class=\"data row11 col0\" >506.000000</td>\n",
       "      <td id=\"T_94e27_row11_col1\" class=\"data row11 col1\" >22.532806</td>\n",
       "      <td id=\"T_94e27_row11_col2\" class=\"data row11 col2\" >9.197104</td>\n",
       "      <td id=\"T_94e27_row11_col3\" class=\"data row11 col3\" >5.000000</td>\n",
       "      <td id=\"T_94e27_row11_col4\" class=\"data row11 col4\" >17.025000</td>\n",
       "      <td id=\"T_94e27_row11_col5\" class=\"data row11 col5\" >21.200000</td>\n",
       "      <td id=\"T_94e27_row11_col6\" class=\"data row11 col6\" >25.000000</td>\n",
       "      <td id=\"T_94e27_row11_col7\" class=\"data row11 col7\" >50.000000</td>\n",
       "    </tr>\n",
       "  </tbody>\n",
       "</table>\n"
      ],
      "text/plain": [
       "<pandas.io.formats.style.Styler at 0x1a7f8903d30>"
      ]
     },
     "execution_count": 15,
     "metadata": {},
     "output_type": "execute_result"
    }
   ],
   "source": [
    "# Descriptive stats of continuous data\n",
    "df.describe().T.style.background_gradient(cmap='twilight')"
   ]
  },
  {
   "cell_type": "code",
   "execution_count": 16,
   "id": "ebbb1433",
   "metadata": {},
   "outputs": [
    {
     "data": {
      "text/html": [
       "<style type=\"text/css\">\n",
       "#T_b3be8_row0_col0, #T_b3be8_row0_col1, #T_b3be8_row0_col2, #T_b3be8_row0_col3, #T_b3be8_row1_col0, #T_b3be8_row1_col1, #T_b3be8_row1_col2, #T_b3be8_row1_col3 {\n",
       "  background-color: #e2d9e2;\n",
       "  color: #000000;\n",
       "}\n",
       "</style>\n",
       "<table id=\"T_b3be8_\">\n",
       "  <thead>\n",
       "    <tr>\n",
       "      <th class=\"blank level0\" >&nbsp;</th>\n",
       "      <th class=\"col_heading level0 col0\" >count</th>\n",
       "      <th class=\"col_heading level0 col1\" >unique</th>\n",
       "      <th class=\"col_heading level0 col2\" >top</th>\n",
       "      <th class=\"col_heading level0 col3\" >freq</th>\n",
       "    </tr>\n",
       "  </thead>\n",
       "  <tbody>\n",
       "    <tr>\n",
       "      <th id=\"T_b3be8_level0_row0\" class=\"row_heading level0 row0\" >CHAS</th>\n",
       "      <td id=\"T_b3be8_row0_col0\" class=\"data row0 col0\" >506.000000</td>\n",
       "      <td id=\"T_b3be8_row0_col1\" class=\"data row0 col1\" >2.000000</td>\n",
       "      <td id=\"T_b3be8_row0_col2\" class=\"data row0 col2\" >0.000000</td>\n",
       "      <td id=\"T_b3be8_row0_col3\" class=\"data row0 col3\" >471.000000</td>\n",
       "    </tr>\n",
       "    <tr>\n",
       "      <th id=\"T_b3be8_level0_row1\" class=\"row_heading level0 row1\" >RAD</th>\n",
       "      <td id=\"T_b3be8_row1_col0\" class=\"data row1 col0\" >506.000000</td>\n",
       "      <td id=\"T_b3be8_row1_col1\" class=\"data row1 col1\" >9.000000</td>\n",
       "      <td id=\"T_b3be8_row1_col2\" class=\"data row1 col2\" >24.000000</td>\n",
       "      <td id=\"T_b3be8_row1_col3\" class=\"data row1 col3\" >132.000000</td>\n",
       "    </tr>\n",
       "  </tbody>\n",
       "</table>\n"
      ],
      "text/plain": [
       "<pandas.io.formats.style.Styler at 0x1a7f8999640>"
      ]
     },
     "execution_count": 16,
     "metadata": {},
     "output_type": "execute_result"
    }
   ],
   "source": [
    "# Descriptive stats of discrete data\n",
    "df.describe(include=['category']).T.style.background_gradient(cmap='twilight')"
   ]
  },
  {
   "cell_type": "code",
   "execution_count": 17,
   "id": "cf7b21b5",
   "metadata": {},
   "outputs": [
    {
     "data": {
      "text/html": [
       "<div>\n",
       "<style scoped>\n",
       "    .dataframe tbody tr th:only-of-type {\n",
       "        vertical-align: middle;\n",
       "    }\n",
       "\n",
       "    .dataframe tbody tr th {\n",
       "        vertical-align: top;\n",
       "    }\n",
       "\n",
       "    .dataframe thead th {\n",
       "        text-align: right;\n",
       "    }\n",
       "</style>\n",
       "<table border=\"1\" class=\"dataframe\">\n",
       "  <thead>\n",
       "    <tr style=\"text-align: right;\">\n",
       "      <th></th>\n",
       "      <th>CHAS</th>\n",
       "      <th>RAD</th>\n",
       "    </tr>\n",
       "  </thead>\n",
       "  <tbody>\n",
       "    <tr>\n",
       "      <th>0</th>\n",
       "      <td>0.0</td>\n",
       "      <td>1.0</td>\n",
       "    </tr>\n",
       "    <tr>\n",
       "      <th>1</th>\n",
       "      <td>0.0</td>\n",
       "      <td>2.0</td>\n",
       "    </tr>\n",
       "    <tr>\n",
       "      <th>2</th>\n",
       "      <td>0.0</td>\n",
       "      <td>2.0</td>\n",
       "    </tr>\n",
       "    <tr>\n",
       "      <th>3</th>\n",
       "      <td>0.0</td>\n",
       "      <td>3.0</td>\n",
       "    </tr>\n",
       "    <tr>\n",
       "      <th>4</th>\n",
       "      <td>0.0</td>\n",
       "      <td>3.0</td>\n",
       "    </tr>\n",
       "  </tbody>\n",
       "</table>\n",
       "</div>"
      ],
      "text/plain": [
       "  CHAS  RAD\n",
       "0  0.0  1.0\n",
       "1  0.0  2.0\n",
       "2  0.0  2.0\n",
       "3  0.0  3.0\n",
       "4  0.0  3.0"
      ]
     },
     "execution_count": 17,
     "metadata": {},
     "output_type": "execute_result"
    }
   ],
   "source": [
    "# Creating a dataframe for discrete features\n",
    "df_discrete = df[discreteFeatures]\n",
    "df_discrete.head()"
   ]
  },
  {
   "cell_type": "code",
   "execution_count": 18,
   "id": "3f1cf97f",
   "metadata": {},
   "outputs": [
    {
     "name": "stdout",
     "output_type": "stream",
     "text": [
      "Cardinality\n",
      " ----------\n",
      "CHAS  :  2\n",
      "RAD  :  9\n"
     ]
    }
   ],
   "source": [
    "# Checking cardinality of discrete features\n",
    "print(\"Cardinality\\n\",\"-\"*10)\n",
    "for col in df_discrete:\n",
    "    print(col,\" : \",df_discrete[col].nunique())"
   ]
  },
  {
   "cell_type": "code",
   "execution_count": 19,
   "id": "8db0fe6e",
   "metadata": {},
   "outputs": [
    {
     "data": {
      "image/png": "[encoded data removed]",
      "text/plain": [
       "<Figure size 504x720 with 4 Axes>"
      ]
     },
     "metadata": {},
     "output_type": "display_data"
    }
   ],
   "source": [
    "# Checking the distribution of discrete features\n",
    "\n",
    "plt.figure(figsize=(7,10), facecolor='white')\n",
    "plotnumber = 1\n",
    "\n",
    "for column in df_discrete:\n",
    "    if plotnumber<= 8:\n",
    "        ax1 = plt.subplot(4,2,plotnumber)\n",
    "        sns.countplot(df_discrete[column])\n",
    "        plt.xticks(fontsize=13)\n",
    "        plt.yticks(fontsize=13)\n",
    "        plt.xlabel(column,fontsize=15)\n",
    "        plt.ylabel('Count', fontsize=15)\n",
    "        \n",
    "        ax2 = plt.subplot(4,2, plotnumber+1)\n",
    "        sns.boxplot(x=df_discrete[column], y=df['MEDV'])\n",
    "        plt.xticks(fontsize=13)\n",
    "        plt.yticks(fontsize=13)\n",
    "        plt.xlabel(column,fontsize=15)\n",
    "        plt.ylabel('MEDV',fontsize=15)\n",
    "    plotnumber+=2\n",
    "plt.tight_layout()"
   ]
  },
  {
   "cell_type": "code",
   "execution_count": 20,
   "id": "7ea3bbea",
   "metadata": {},
   "outputs": [
    {
     "data": {
      "text/html": [
       "<div>\n",
       "<style scoped>\n",
       "    .dataframe tbody tr th:only-of-type {\n",
       "        vertical-align: middle;\n",
       "    }\n",
       "\n",
       "    .dataframe tbody tr th {\n",
       "        vertical-align: top;\n",
       "    }\n",
       "\n",
       "    .dataframe thead th {\n",
       "        text-align: right;\n",
       "    }\n",
       "</style>\n",
       "<table border=\"1\" class=\"dataframe\">\n",
       "  <thead>\n",
       "    <tr style=\"text-align: right;\">\n",
       "      <th></th>\n",
       "      <th>CRIM</th>\n",
       "      <th>ZN</th>\n",
       "      <th>INDUS</th>\n",
       "      <th>NOX</th>\n",
       "      <th>RM</th>\n",
       "      <th>AGE</th>\n",
       "      <th>DIS</th>\n",
       "      <th>TAX</th>\n",
       "      <th>PTRATIO</th>\n",
       "      <th>B</th>\n",
       "      <th>LSTAT</th>\n",
       "      <th>MEDV</th>\n",
       "    </tr>\n",
       "  </thead>\n",
       "  <tbody>\n",
       "    <tr>\n",
       "      <th>0</th>\n",
       "      <td>0.00632</td>\n",
       "      <td>18.0</td>\n",
       "      <td>2.31</td>\n",
       "      <td>0.538</td>\n",
       "      <td>6.575</td>\n",
       "      <td>65.2</td>\n",
       "      <td>4.0900</td>\n",
       "      <td>296.0</td>\n",
       "      <td>15.3</td>\n",
       "      <td>396.90</td>\n",
       "      <td>4.98</td>\n",
       "      <td>24.0</td>\n",
       "    </tr>\n",
       "    <tr>\n",
       "      <th>1</th>\n",
       "      <td>0.02731</td>\n",
       "      <td>0.0</td>\n",
       "      <td>7.07</td>\n",
       "      <td>0.469</td>\n",
       "      <td>6.421</td>\n",
       "      <td>78.9</td>\n",
       "      <td>4.9671</td>\n",
       "      <td>242.0</td>\n",
       "      <td>17.8</td>\n",
       "      <td>396.90</td>\n",
       "      <td>9.14</td>\n",
       "      <td>21.6</td>\n",
       "    </tr>\n",
       "    <tr>\n",
       "      <th>2</th>\n",
       "      <td>0.02729</td>\n",
       "      <td>0.0</td>\n",
       "      <td>7.07</td>\n",
       "      <td>0.469</td>\n",
       "      <td>7.185</td>\n",
       "      <td>61.1</td>\n",
       "      <td>4.9671</td>\n",
       "      <td>242.0</td>\n",
       "      <td>17.8</td>\n",
       "      <td>392.83</td>\n",
       "      <td>4.03</td>\n",
       "      <td>34.7</td>\n",
       "    </tr>\n",
       "    <tr>\n",
       "      <th>3</th>\n",
       "      <td>0.03237</td>\n",
       "      <td>0.0</td>\n",
       "      <td>2.18</td>\n",
       "      <td>0.458</td>\n",
       "      <td>6.998</td>\n",
       "      <td>45.8</td>\n",
       "      <td>6.0622</td>\n",
       "      <td>222.0</td>\n",
       "      <td>18.7</td>\n",
       "      <td>394.63</td>\n",
       "      <td>2.94</td>\n",
       "      <td>33.4</td>\n",
       "    </tr>\n",
       "    <tr>\n",
       "      <th>4</th>\n",
       "      <td>0.06905</td>\n",
       "      <td>0.0</td>\n",
       "      <td>2.18</td>\n",
       "      <td>0.458</td>\n",
       "      <td>7.147</td>\n",
       "      <td>54.2</td>\n",
       "      <td>6.0622</td>\n",
       "      <td>222.0</td>\n",
       "      <td>18.7</td>\n",
       "      <td>396.90</td>\n",
       "      <td>5.33</td>\n",
       "      <td>36.2</td>\n",
       "    </tr>\n",
       "  </tbody>\n",
       "</table>\n",
       "</div>"
      ],
      "text/plain": [
       "      CRIM    ZN  INDUS    NOX     RM   AGE     DIS    TAX  PTRATIO       B  \\\n",
       "0  0.00632  18.0   2.31  0.538  6.575  65.2  4.0900  296.0     15.3  396.90   \n",
       "1  0.02731   0.0   7.07  0.469  6.421  78.9  4.9671  242.0     17.8  396.90   \n",
       "2  0.02729   0.0   7.07  0.469  7.185  61.1  4.9671  242.0     17.8  392.83   \n",
       "3  0.03237   0.0   2.18  0.458  6.998  45.8  6.0622  222.0     18.7  394.63   \n",
       "4  0.06905   0.0   2.18  0.458  7.147  54.2  6.0622  222.0     18.7  396.90   \n",
       "\n",
       "   LSTAT  MEDV  \n",
       "0   4.98  24.0  \n",
       "1   9.14  21.6  \n",
       "2   4.03  34.7  \n",
       "3   2.94  33.4  \n",
       "4   5.33  36.2  "
      ]
     },
     "execution_count": 20,
     "metadata": {},
     "output_type": "execute_result"
    }
   ],
   "source": [
    "# Creating a dataframe for Categorical features\n",
    "df_cont = df[continuousFeatures]\n",
    "df_cont.head()"
   ]
  },
  {
   "cell_type": "code",
   "execution_count": 21,
   "id": "4b3078c1",
   "metadata": {},
   "outputs": [
    {
     "data": {
      "image/png": "[encoded data removed]",
      "text/plain": [
       "<Figure size 720x360 with 12 Axes>"
      ]
     },
     "metadata": {},
     "output_type": "display_data"
    }
   ],
   "source": [
    "# Density plots of numerical data\n",
    "df_cont.plot(kind='kde', \n",
    "        subplots=True, \n",
    "        layout=(3,4), \n",
    "        sharex=False,\n",
    "        figsize=(10,5),\n",
    "        title=list(df_cont.columns),\n",
    "        legend=False)\n",
    "plt.tight_layout()"
   ]
  },
  {
   "cell_type": "code",
   "execution_count": 22,
   "id": "7808c617",
   "metadata": {},
   "outputs": [
    {
     "name": "stdout",
     "output_type": "stream",
     "text": [
      "     =================================== \u001b[1;34;47m Distribution of Numerical Features wrt Target \u001b[0m ===================================\n"
     ]
    },
    {
     "data": {
      "image/png": "[encoded data removed]",
      "text/plain": [
       "<Figure size 1080x432 with 12 Axes>"
      ]
     },
     "metadata": {},
     "output_type": "display_data"
    }
   ],
   "source": [
    "# function for plotting numerical feature distribution against continuous target\n",
    "def plot_xnum_ynum(df, target, alpha=0.2, size=(15,6), ticksize=13, fontsize=14):\n",
    "    print(\"    \",\"=\"*35, \"\\033[1;34;47m Distribution of Numerical Features wrt Target \\033[0m\", \"=\"*35)\n",
    "    plt.figure(figsize=size)\n",
    "    plotnumber=1\n",
    "\n",
    "    for col in df:\n",
    "        if plotnumber < 1+df.shape[1]:\n",
    "            ax = plt.subplot(2,6,plotnumber)\n",
    "            plt.scatter(data=df, x=col, y=target, color='#724BC8', alpha=alpha)\n",
    "            plt.xticks(fontsize=ticksize)\n",
    "            plt.yticks(fontsize=ticksize)\n",
    "            plt.xlabel(col, fontsize=12)\n",
    "        plotnumber +=1\n",
    "    plt.tight_layout()\n",
    "    \n",
    "plot_xnum_ynum(df_cont, 'MEDV')"
   ]
  },
  {
   "cell_type": "code",
   "execution_count": 23,
   "id": "f399a2db",
   "metadata": {},
   "outputs": [],
   "source": [
    "# Separating positively and negatively skewed features\n",
    "\n",
    "positively_skewed = [feat for feat in continuousFeatures if df_cont[feat].skew()>0.7]\n",
    "negatively_skewed = [feat for feat in continuousFeatures if df_cont[feat].skew()<-0.7]"
   ]
  },
  {
   "cell_type": "code",
   "execution_count": 24,
   "id": "5cd7564a",
   "metadata": {},
   "outputs": [
    {
     "name": "stdout",
     "output_type": "stream",
     "text": [
      "Positively skewed features:  ['CRIM', 'ZN', 'NOX', 'DIS', 'LSTAT', 'MEDV']\n",
      "\n",
      "Negatively skewed features:  ['PTRATIO', 'B']\n"
     ]
    }
   ],
   "source": [
    "print(\"Positively skewed features: \", positively_skewed)\n",
    "print(\"\\nNegatively skewed features: \",negatively_skewed)"
   ]
  },
  {
   "cell_type": "code",
   "execution_count": 25,
   "id": "97d5dd6d",
   "metadata": {},
   "outputs": [
    {
     "name": "stdout",
     "output_type": "stream",
     "text": [
      "Outliers in CRIM: 13.04%\n",
      "Outliers in ZN: 13.44%\n",
      "Outliers in INDUS: 2.37%\n",
      "Outliers in NOX: 0.0%\n",
      "Outliers in RM: 6.32%\n",
      "Outliers in AGE: 2.77%\n",
      "Outliers in DIS: 0.99%\n",
      "Outliers in TAX: 0.0%\n",
      "Outliers in PTRATIO: 2.96%\n",
      "Outliers in B: 15.22%\n",
      "Outliers in LSTAT: 1.38%\n",
      "Outliers in MEDV: 7.91%\n"
     ]
    }
   ],
   "source": [
    "# Checking for outliers\n",
    "\n",
    "skewed_features = positively_skewed + negatively_skewed\n",
    "outlier_dict={}\n",
    "\n",
    "for feat in continuousFeatures:\n",
    "    if feat in skewed_features:\n",
    "        # Applying IQR for identifying outliers for skewed features\n",
    "        q1 = df_cont[feat].quantile(0.25)\n",
    "        q3 = df_cont[feat].quantile(0.75)\n",
    "        iqr = q3 - q1\n",
    "        upper = q3+(1.5*iqr)\n",
    "        lower = q1-(1.5*iqr)\n",
    "        outlier_count = np.sum(df_cont[feat]>upper)+np.sum(df_cont[feat]<lower)\n",
    "    else:\n",
    "        # Applying 2 standard deviations for normally distributed features\n",
    "        feat_mean = np.mean(df_cont[feat])\n",
    "        feat_stdev = np.std(df_cont[feat])\n",
    "        upper = feat_mean+(2*feat_stdev)\n",
    "        lower = feat_mean-(2*feat_stdev)\n",
    "        outlier_count = np.sum(df_cont[feat]>upper)+np.sum(df_cont[feat]<lower)\n",
    "    outlier_dict[feat]=outlier_count\n",
    "    \n",
    "for feat,count in outlier_dict.items():\n",
    "    print(\"Outliers in {}: {}%\".format(feat, (count*100/df.shape[0]).round(2)))"
   ]
  },
  {
   "cell_type": "code",
   "execution_count": 26,
   "id": "24e133f6",
   "metadata": {},
   "outputs": [
    {
     "data": {
      "image/png": "[encoded data removed]",
      "text/plain": [
       "<Figure size 1440x504 with 10 Axes>"
      ]
     },
     "metadata": {},
     "output_type": "display_data"
    }
   ],
   "source": [
    "# Visualizing outliers\n",
    "\n",
    "plt.figure(figsize=(20,7), facecolor='white')\n",
    "plotnumber = 1\n",
    "\n",
    "for column in df_cont:\n",
    "    if plotnumber<= 10:\n",
    "        ax1 = plt.subplot(2,5,plotnumber)\n",
    "        sns.boxplot(data=df_cont, y=column)\n",
    "        plt.xticks(fontsize=13)\n",
    "        plt.yticks(fontsize=13)\n",
    "        plt.xlabel(column,fontsize=15)\n",
    "        plt.ylabel(' ',fontsize=15)\n",
    "    plotnumber+=1\n",
    "plt.tight_layout()"
   ]
  },
  {
   "cell_type": "code",
   "execution_count": 27,
   "id": "96ae90a1",
   "metadata": {},
   "outputs": [
    {
     "data": {
      "image/png": "[encoded data removed]",
      "text/plain": [
       "<Figure size 1080x144 with 5 Axes>"
      ]
     },
     "metadata": {},
     "output_type": "display_data"
    }
   ],
   "source": [
    "df_cont[positively_skewed].drop('MEDV', axis=1).hist(layout=(1,5), figsize=(15,2));"
   ]
  },
  {
   "cell_type": "code",
   "execution_count": 28,
   "id": "45d7c1e0",
   "metadata": {},
   "outputs": [
    {
     "data": {
      "image/png": "[encoded data removed]",
      "text/plain": [
       "<Figure size 1080x144 with 5 Axes>"
      ]
     },
     "metadata": {},
     "output_type": "display_data"
    }
   ],
   "source": [
    "# Distribution of positively skewed features after log transformation\n",
    "np.log1p(df_cont[positively_skewed].drop('MEDV', axis=1)).hist(layout=(1,5), figsize=(15,2), color='green');"
   ]
  },
  {
   "cell_type": "markdown",
   "id": "4d341cf5",
   "metadata": {},
   "source": [
    "Log transformation can be applied on: NOX, DIS, LSTAT"
   ]
  },
  {
   "cell_type": "code",
   "execution_count": 29,
   "id": "9f7efc09",
   "metadata": {},
   "outputs": [
    {
     "data": {
      "image/png": "[encoded data removed]",
      "text/plain": [
       "<Figure size 720x360 with 6 Axes>"
      ]
     },
     "metadata": {},
     "output_type": "display_data"
    }
   ],
   "source": [
    "# Distribution of positively skewed features after power transformation\n",
    "np.power(df_cont[['CRIM','ZN']], 0.03125).hist(layout=(2,3), figsize=(10,5), color='orange');"
   ]
  },
  {
   "cell_type": "code",
   "execution_count": 30,
   "id": "680f9ac1",
   "metadata": {},
   "outputs": [],
   "source": [
    "# applying log transformation\n",
    "for feat in ['NOX', 'DIS', 'LSTAT']:\n",
    "    df_cont[feat] = np.log1p(df_cont[feat])\n",
    "\n",
    "for feat in ['CRIM', 'ZN']:\n",
    "    df_cont[feat] = np.power(df_cont[feat], 0.03125)"
   ]
  },
  {
   "cell_type": "code",
   "execution_count": 31,
   "id": "0d28b1a2",
   "metadata": {},
   "outputs": [
    {
     "data": {
      "text/html": [
       "<div>\n",
       "<style scoped>\n",
       "    .dataframe tbody tr th:only-of-type {\n",
       "        vertical-align: middle;\n",
       "    }\n",
       "\n",
       "    .dataframe tbody tr th {\n",
       "        vertical-align: top;\n",
       "    }\n",
       "\n",
       "    .dataframe thead th {\n",
       "        text-align: right;\n",
       "    }\n",
       "</style>\n",
       "<table border=\"1\" class=\"dataframe\">\n",
       "  <thead>\n",
       "    <tr style=\"text-align: right;\">\n",
       "      <th></th>\n",
       "      <th>CRIM</th>\n",
       "      <th>ZN</th>\n",
       "      <th>INDUS</th>\n",
       "      <th>NOX</th>\n",
       "      <th>RM</th>\n",
       "      <th>AGE</th>\n",
       "      <th>DIS</th>\n",
       "      <th>TAX</th>\n",
       "      <th>PTRATIO</th>\n",
       "      <th>B</th>\n",
       "      <th>LSTAT</th>\n",
       "      <th>MEDV</th>\n",
       "    </tr>\n",
       "  </thead>\n",
       "  <tbody>\n",
       "    <tr>\n",
       "      <th>0</th>\n",
       "      <td>0.853635</td>\n",
       "      <td>1.094529</td>\n",
       "      <td>2.31</td>\n",
       "      <td>0.430483</td>\n",
       "      <td>6.575</td>\n",
       "      <td>65.2</td>\n",
       "      <td>1.627278</td>\n",
       "      <td>296.0</td>\n",
       "      <td>15.3</td>\n",
       "      <td>396.90</td>\n",
       "      <td>1.788421</td>\n",
       "      <td>24.0</td>\n",
       "    </tr>\n",
       "    <tr>\n",
       "      <th>1</th>\n",
       "      <td>0.893583</td>\n",
       "      <td>0.000000</td>\n",
       "      <td>7.07</td>\n",
       "      <td>0.384582</td>\n",
       "      <td>6.421</td>\n",
       "      <td>78.9</td>\n",
       "      <td>1.786261</td>\n",
       "      <td>242.0</td>\n",
       "      <td>17.8</td>\n",
       "      <td>396.90</td>\n",
       "      <td>2.316488</td>\n",
       "      <td>21.6</td>\n",
       "    </tr>\n",
       "    <tr>\n",
       "      <th>2</th>\n",
       "      <td>0.893563</td>\n",
       "      <td>0.000000</td>\n",
       "      <td>7.07</td>\n",
       "      <td>0.384582</td>\n",
       "      <td>7.185</td>\n",
       "      <td>61.1</td>\n",
       "      <td>1.786261</td>\n",
       "      <td>242.0</td>\n",
       "      <td>17.8</td>\n",
       "      <td>392.83</td>\n",
       "      <td>1.615420</td>\n",
       "      <td>34.7</td>\n",
       "    </tr>\n",
       "    <tr>\n",
       "      <th>3</th>\n",
       "      <td>0.898343</td>\n",
       "      <td>0.000000</td>\n",
       "      <td>2.18</td>\n",
       "      <td>0.377066</td>\n",
       "      <td>6.998</td>\n",
       "      <td>45.8</td>\n",
       "      <td>1.954757</td>\n",
       "      <td>222.0</td>\n",
       "      <td>18.7</td>\n",
       "      <td>394.63</td>\n",
       "      <td>1.371181</td>\n",
       "      <td>33.4</td>\n",
       "    </tr>\n",
       "    <tr>\n",
       "      <th>4</th>\n",
       "      <td>0.919865</td>\n",
       "      <td>0.000000</td>\n",
       "      <td>2.18</td>\n",
       "      <td>0.377066</td>\n",
       "      <td>7.147</td>\n",
       "      <td>54.2</td>\n",
       "      <td>1.954757</td>\n",
       "      <td>222.0</td>\n",
       "      <td>18.7</td>\n",
       "      <td>396.90</td>\n",
       "      <td>1.845300</td>\n",
       "      <td>36.2</td>\n",
       "    </tr>\n",
       "  </tbody>\n",
       "</table>\n",
       "</div>"
      ],
      "text/plain": [
       "       CRIM        ZN  INDUS       NOX     RM   AGE       DIS    TAX  PTRATIO  \\\n",
       "0  0.853635  1.094529   2.31  0.430483  6.575  65.2  1.627278  296.0     15.3   \n",
       "1  0.893583  0.000000   7.07  0.384582  6.421  78.9  1.786261  242.0     17.8   \n",
       "2  0.893563  0.000000   7.07  0.384582  7.185  61.1  1.786261  242.0     17.8   \n",
       "3  0.898343  0.000000   2.18  0.377066  6.998  45.8  1.954757  222.0     18.7   \n",
       "4  0.919865  0.000000   2.18  0.377066  7.147  54.2  1.954757  222.0     18.7   \n",
       "\n",
       "        B     LSTAT  MEDV  \n",
       "0  396.90  1.788421  24.0  \n",
       "1  396.90  2.316488  21.6  \n",
       "2  392.83  1.615420  34.7  \n",
       "3  394.63  1.371181  33.4  \n",
       "4  396.90  1.845300  36.2  "
      ]
     },
     "execution_count": 31,
     "metadata": {},
     "output_type": "execute_result"
    }
   ],
   "source": [
    "df_cont.head()"
   ]
  },
  {
   "cell_type": "code",
   "execution_count": 32,
   "id": "c3583612",
   "metadata": {},
   "outputs": [
    {
     "data": {
      "text/html": [
       "<div>\n",
       "<style scoped>\n",
       "    .dataframe tbody tr th:only-of-type {\n",
       "        vertical-align: middle;\n",
       "    }\n",
       "\n",
       "    .dataframe tbody tr th {\n",
       "        vertical-align: top;\n",
       "    }\n",
       "\n",
       "    .dataframe thead th {\n",
       "        text-align: right;\n",
       "    }\n",
       "</style>\n",
       "<table border=\"1\" class=\"dataframe\">\n",
       "  <thead>\n",
       "    <tr style=\"text-align: right;\">\n",
       "      <th></th>\n",
       "      <th>CHAS</th>\n",
       "      <th>RAD</th>\n",
       "    </tr>\n",
       "  </thead>\n",
       "  <tbody>\n",
       "    <tr>\n",
       "      <th>0</th>\n",
       "      <td>0.0</td>\n",
       "      <td>1.0</td>\n",
       "    </tr>\n",
       "    <tr>\n",
       "      <th>1</th>\n",
       "      <td>0.0</td>\n",
       "      <td>2.0</td>\n",
       "    </tr>\n",
       "    <tr>\n",
       "      <th>2</th>\n",
       "      <td>0.0</td>\n",
       "      <td>2.0</td>\n",
       "    </tr>\n",
       "    <tr>\n",
       "      <th>3</th>\n",
       "      <td>0.0</td>\n",
       "      <td>3.0</td>\n",
       "    </tr>\n",
       "    <tr>\n",
       "      <th>4</th>\n",
       "      <td>0.0</td>\n",
       "      <td>3.0</td>\n",
       "    </tr>\n",
       "  </tbody>\n",
       "</table>\n",
       "</div>"
      ],
      "text/plain": [
       "  CHAS  RAD\n",
       "0  0.0  1.0\n",
       "1  0.0  2.0\n",
       "2  0.0  2.0\n",
       "3  0.0  3.0\n",
       "4  0.0  3.0"
      ]
     },
     "execution_count": 32,
     "metadata": {},
     "output_type": "execute_result"
    }
   ],
   "source": [
    "df_discrete.head()"
   ]
  },
  {
   "cell_type": "code",
   "execution_count": 33,
   "id": "e1adc2ee",
   "metadata": {},
   "outputs": [
    {
     "data": {
      "text/html": [
       "<div>\n",
       "<style scoped>\n",
       "    .dataframe tbody tr th:only-of-type {\n",
       "        vertical-align: middle;\n",
       "    }\n",
       "\n",
       "    .dataframe tbody tr th {\n",
       "        vertical-align: top;\n",
       "    }\n",
       "\n",
       "    .dataframe thead th {\n",
       "        text-align: right;\n",
       "    }\n",
       "</style>\n",
       "<table border=\"1\" class=\"dataframe\">\n",
       "  <thead>\n",
       "    <tr style=\"text-align: right;\">\n",
       "      <th></th>\n",
       "      <th>CRIM</th>\n",
       "      <th>ZN</th>\n",
       "      <th>INDUS</th>\n",
       "      <th>NOX</th>\n",
       "      <th>RM</th>\n",
       "      <th>AGE</th>\n",
       "      <th>DIS</th>\n",
       "      <th>TAX</th>\n",
       "      <th>PTRATIO</th>\n",
       "      <th>B</th>\n",
       "      <th>LSTAT</th>\n",
       "      <th>MEDV</th>\n",
       "      <th>CHAS</th>\n",
       "      <th>RAD</th>\n",
       "    </tr>\n",
       "  </thead>\n",
       "  <tbody>\n",
       "    <tr>\n",
       "      <th>0</th>\n",
       "      <td>0.853635</td>\n",
       "      <td>1.094529</td>\n",
       "      <td>2.31</td>\n",
       "      <td>0.430483</td>\n",
       "      <td>6.575</td>\n",
       "      <td>65.2</td>\n",
       "      <td>1.627278</td>\n",
       "      <td>296.0</td>\n",
       "      <td>15.3</td>\n",
       "      <td>396.90</td>\n",
       "      <td>1.788421</td>\n",
       "      <td>24.0</td>\n",
       "      <td>0.0</td>\n",
       "      <td>1.0</td>\n",
       "    </tr>\n",
       "    <tr>\n",
       "      <th>1</th>\n",
       "      <td>0.893583</td>\n",
       "      <td>0.000000</td>\n",
       "      <td>7.07</td>\n",
       "      <td>0.384582</td>\n",
       "      <td>6.421</td>\n",
       "      <td>78.9</td>\n",
       "      <td>1.786261</td>\n",
       "      <td>242.0</td>\n",
       "      <td>17.8</td>\n",
       "      <td>396.90</td>\n",
       "      <td>2.316488</td>\n",
       "      <td>21.6</td>\n",
       "      <td>0.0</td>\n",
       "      <td>2.0</td>\n",
       "    </tr>\n",
       "    <tr>\n",
       "      <th>2</th>\n",
       "      <td>0.893563</td>\n",
       "      <td>0.000000</td>\n",
       "      <td>7.07</td>\n",
       "      <td>0.384582</td>\n",
       "      <td>7.185</td>\n",
       "      <td>61.1</td>\n",
       "      <td>1.786261</td>\n",
       "      <td>242.0</td>\n",
       "      <td>17.8</td>\n",
       "      <td>392.83</td>\n",
       "      <td>1.615420</td>\n",
       "      <td>34.7</td>\n",
       "      <td>0.0</td>\n",
       "      <td>2.0</td>\n",
       "    </tr>\n",
       "    <tr>\n",
       "      <th>3</th>\n",
       "      <td>0.898343</td>\n",
       "      <td>0.000000</td>\n",
       "      <td>2.18</td>\n",
       "      <td>0.377066</td>\n",
       "      <td>6.998</td>\n",
       "      <td>45.8</td>\n",
       "      <td>1.954757</td>\n",
       "      <td>222.0</td>\n",
       "      <td>18.7</td>\n",
       "      <td>394.63</td>\n",
       "      <td>1.371181</td>\n",
       "      <td>33.4</td>\n",
       "      <td>0.0</td>\n",
       "      <td>3.0</td>\n",
       "    </tr>\n",
       "    <tr>\n",
       "      <th>4</th>\n",
       "      <td>0.919865</td>\n",
       "      <td>0.000000</td>\n",
       "      <td>2.18</td>\n",
       "      <td>0.377066</td>\n",
       "      <td>7.147</td>\n",
       "      <td>54.2</td>\n",
       "      <td>1.954757</td>\n",
       "      <td>222.0</td>\n",
       "      <td>18.7</td>\n",
       "      <td>396.90</td>\n",
       "      <td>1.845300</td>\n",
       "      <td>36.2</td>\n",
       "      <td>0.0</td>\n",
       "      <td>3.0</td>\n",
       "    </tr>\n",
       "  </tbody>\n",
       "</table>\n",
       "</div>"
      ],
      "text/plain": [
       "       CRIM        ZN  INDUS       NOX     RM   AGE       DIS    TAX  PTRATIO  \\\n",
       "0  0.853635  1.094529   2.31  0.430483  6.575  65.2  1.627278  296.0     15.3   \n",
       "1  0.893583  0.000000   7.07  0.384582  6.421  78.9  1.786261  242.0     17.8   \n",
       "2  0.893563  0.000000   7.07  0.384582  7.185  61.1  1.786261  242.0     17.8   \n",
       "3  0.898343  0.000000   2.18  0.377066  6.998  45.8  1.954757  222.0     18.7   \n",
       "4  0.919865  0.000000   2.18  0.377066  7.147  54.2  1.954757  222.0     18.7   \n",
       "\n",
       "        B     LSTAT  MEDV CHAS  RAD  \n",
       "0  396.90  1.788421  24.0  0.0  1.0  \n",
       "1  396.90  2.316488  21.6  0.0  2.0  \n",
       "2  392.83  1.615420  34.7  0.0  2.0  \n",
       "3  394.63  1.371181  33.4  0.0  3.0  \n",
       "4  396.90  1.845300  36.2  0.0  3.0  "
      ]
     },
     "execution_count": 33,
     "metadata": {},
     "output_type": "execute_result"
    }
   ],
   "source": [
    "df = pd.concat([df_cont, df_discrete], axis=1)\n",
    "df.head()"
   ]
  },
  {
   "cell_type": "code",
   "execution_count": 34,
   "id": "90d50a66",
   "metadata": {},
   "outputs": [],
   "source": [
    "# Dropping observations for MEDV=50\n",
    "dropidx = list(df[df['MEDV']==50].index)\n",
    "df.drop(dropidx, axis=0, inplace=True)"
   ]
  },
  {
   "cell_type": "markdown",
   "id": "442c677d",
   "metadata": {},
   "source": [
    "## Upsampling using SMOTE"
   ]
  },
  {
   "cell_type": "code",
   "execution_count": 35,
   "id": "f73e2420",
   "metadata": {},
   "outputs": [
    {
     "name": "stdout",
     "output_type": "stream",
     "text": [
      "Class=0.0, n=461 (94.08%)\n",
      "Class=1.0, n=29 (5.92%)\n"
     ]
    }
   ],
   "source": [
    "from collections import Counter\n",
    "from imblearn.over_sampling import SMOTE\n",
    "\n",
    "major = df.drop('CHAS', axis=1)\n",
    "minor = df['CHAS']\n",
    "\n",
    "counter = Counter(minor)\n",
    "\n",
    "for k, v in counter.items():\n",
    "    per = 100*v/len(minor)\n",
    "    print(f\"Class={k}, n={v} ({per:.2f}%)\")"
   ]
  },
  {
   "cell_type": "code",
   "execution_count": 36,
   "id": "32b851cc",
   "metadata": {},
   "outputs": [
    {
     "name": "stdout",
     "output_type": "stream",
     "text": [
      "Class=0.0, n=461 (50.00%)\n",
      "Class=1.0, n=461 (50.00%)\n"
     ]
    }
   ],
   "source": [
    "oversample = SMOTE()\n",
    "\n",
    "major, minor = oversample.fit_resample(major, minor)\n",
    "\n",
    "counter = Counter(minor)\n",
    "\n",
    "for k, v in counter.items():\n",
    "    per = 100*v/len(minor)\n",
    "    print(f\"Class={k}, n={v} ({per:.2f}%)\")"
   ]
  },
  {
   "cell_type": "code",
   "execution_count": 37,
   "id": "3be1acd9",
   "metadata": {},
   "outputs": [
    {
     "name": "stdout",
     "output_type": "stream",
     "text": [
      "(922, 14)\n"
     ]
    },
    {
     "data": {
      "text/html": [
       "<div>\n",
       "<style scoped>\n",
       "    .dataframe tbody tr th:only-of-type {\n",
       "        vertical-align: middle;\n",
       "    }\n",
       "\n",
       "    .dataframe tbody tr th {\n",
       "        vertical-align: top;\n",
       "    }\n",
       "\n",
       "    .dataframe thead th {\n",
       "        text-align: right;\n",
       "    }\n",
       "</style>\n",
       "<table border=\"1\" class=\"dataframe\">\n",
       "  <thead>\n",
       "    <tr style=\"text-align: right;\">\n",
       "      <th></th>\n",
       "      <th>CRIM</th>\n",
       "      <th>ZN</th>\n",
       "      <th>INDUS</th>\n",
       "      <th>NOX</th>\n",
       "      <th>RM</th>\n",
       "      <th>AGE</th>\n",
       "      <th>DIS</th>\n",
       "      <th>TAX</th>\n",
       "      <th>PTRATIO</th>\n",
       "      <th>B</th>\n",
       "      <th>LSTAT</th>\n",
       "      <th>MEDV</th>\n",
       "      <th>RAD</th>\n",
       "      <th>CHAS</th>\n",
       "    </tr>\n",
       "  </thead>\n",
       "  <tbody>\n",
       "    <tr>\n",
       "      <th>0</th>\n",
       "      <td>0.853635</td>\n",
       "      <td>1.094529</td>\n",
       "      <td>2.31</td>\n",
       "      <td>0.430483</td>\n",
       "      <td>6.575</td>\n",
       "      <td>65.2</td>\n",
       "      <td>1.627278</td>\n",
       "      <td>296.0</td>\n",
       "      <td>15.3</td>\n",
       "      <td>396.90</td>\n",
       "      <td>1.788421</td>\n",
       "      <td>24.0</td>\n",
       "      <td>1.0</td>\n",
       "      <td>0.0</td>\n",
       "    </tr>\n",
       "    <tr>\n",
       "      <th>1</th>\n",
       "      <td>0.893583</td>\n",
       "      <td>0.000000</td>\n",
       "      <td>7.07</td>\n",
       "      <td>0.384582</td>\n",
       "      <td>6.421</td>\n",
       "      <td>78.9</td>\n",
       "      <td>1.786261</td>\n",
       "      <td>242.0</td>\n",
       "      <td>17.8</td>\n",
       "      <td>396.90</td>\n",
       "      <td>2.316488</td>\n",
       "      <td>21.6</td>\n",
       "      <td>2.0</td>\n",
       "      <td>0.0</td>\n",
       "    </tr>\n",
       "    <tr>\n",
       "      <th>2</th>\n",
       "      <td>0.893563</td>\n",
       "      <td>0.000000</td>\n",
       "      <td>7.07</td>\n",
       "      <td>0.384582</td>\n",
       "      <td>7.185</td>\n",
       "      <td>61.1</td>\n",
       "      <td>1.786261</td>\n",
       "      <td>242.0</td>\n",
       "      <td>17.8</td>\n",
       "      <td>392.83</td>\n",
       "      <td>1.615420</td>\n",
       "      <td>34.7</td>\n",
       "      <td>2.0</td>\n",
       "      <td>0.0</td>\n",
       "    </tr>\n",
       "    <tr>\n",
       "      <th>3</th>\n",
       "      <td>0.898343</td>\n",
       "      <td>0.000000</td>\n",
       "      <td>2.18</td>\n",
       "      <td>0.377066</td>\n",
       "      <td>6.998</td>\n",
       "      <td>45.8</td>\n",
       "      <td>1.954757</td>\n",
       "      <td>222.0</td>\n",
       "      <td>18.7</td>\n",
       "      <td>394.63</td>\n",
       "      <td>1.371181</td>\n",
       "      <td>33.4</td>\n",
       "      <td>3.0</td>\n",
       "      <td>0.0</td>\n",
       "    </tr>\n",
       "    <tr>\n",
       "      <th>4</th>\n",
       "      <td>0.919865</td>\n",
       "      <td>0.000000</td>\n",
       "      <td>2.18</td>\n",
       "      <td>0.377066</td>\n",
       "      <td>7.147</td>\n",
       "      <td>54.2</td>\n",
       "      <td>1.954757</td>\n",
       "      <td>222.0</td>\n",
       "      <td>18.7</td>\n",
       "      <td>396.90</td>\n",
       "      <td>1.845300</td>\n",
       "      <td>36.2</td>\n",
       "      <td>3.0</td>\n",
       "      <td>0.0</td>\n",
       "    </tr>\n",
       "  </tbody>\n",
       "</table>\n",
       "</div>"
      ],
      "text/plain": [
       "       CRIM        ZN  INDUS       NOX     RM   AGE       DIS    TAX  PTRATIO  \\\n",
       "0  0.853635  1.094529   2.31  0.430483  6.575  65.2  1.627278  296.0     15.3   \n",
       "1  0.893583  0.000000   7.07  0.384582  6.421  78.9  1.786261  242.0     17.8   \n",
       "2  0.893563  0.000000   7.07  0.384582  7.185  61.1  1.786261  242.0     17.8   \n",
       "3  0.898343  0.000000   2.18  0.377066  6.998  45.8  1.954757  222.0     18.7   \n",
       "4  0.919865  0.000000   2.18  0.377066  7.147  54.2  1.954757  222.0     18.7   \n",
       "\n",
       "        B     LSTAT  MEDV  RAD CHAS  \n",
       "0  396.90  1.788421  24.0  1.0  0.0  \n",
       "1  396.90  2.316488  21.6  2.0  0.0  \n",
       "2  392.83  1.615420  34.7  2.0  0.0  \n",
       "3  394.63  1.371181  33.4  3.0  0.0  \n",
       "4  396.90  1.845300  36.2  3.0  0.0  "
      ]
     },
     "execution_count": 37,
     "metadata": {},
     "output_type": "execute_result"
    }
   ],
   "source": [
    "# Creating dataframe\n",
    "df = pd.concat([major, minor], axis=1)\n",
    "print(df.shape)\n",
    "df.head()"
   ]
  },
  {
   "cell_type": "code",
   "execution_count": 38,
   "id": "8cbf1495",
   "metadata": {},
   "outputs": [
    {
     "data": {
      "text/plain": [
       "CRIM       0\n",
       "ZN         0\n",
       "INDUS      0\n",
       "NOX        0\n",
       "RM         0\n",
       "AGE        0\n",
       "DIS        0\n",
       "TAX        0\n",
       "PTRATIO    0\n",
       "B          0\n",
       "LSTAT      0\n",
       "MEDV       0\n",
       "RAD        0\n",
       "CHAS       0\n",
       "dtype: int64"
      ]
     },
     "execution_count": 38,
     "metadata": {},
     "output_type": "execute_result"
    }
   ],
   "source": [
    "# Dropping missing values due to upsampling\n",
    "\n",
    "df.dropna(inplace=True)\n",
    "df.isnull().sum()"
   ]
  },
  {
   "cell_type": "markdown",
   "id": "b85d3b15",
   "metadata": {},
   "source": [
    "## Data preprocessing and Model evaluation"
   ]
  },
  {
   "cell_type": "code",
   "execution_count": 39,
   "id": "9db81adf",
   "metadata": {},
   "outputs": [
    {
     "name": "stdout",
     "output_type": "stream",
     "text": [
      "(715, 13) (715,)\n"
     ]
    }
   ],
   "source": [
    "# splitting target and features\n",
    "y = df['MEDV']\n",
    "X = df.drop('MEDV', axis=1)\n",
    "print(X.shape, y.shape)"
   ]
  },
  {
   "cell_type": "code",
   "execution_count": 40,
   "id": "00943b98",
   "metadata": {},
   "outputs": [],
   "source": [
    "from sklearn.model_selection import train_test_split\n",
    "\n",
    "train_x, test_x, train_y, test_y = train_test_split(X, y, test_size=0.25, random_state=42)"
   ]
  },
  {
   "cell_type": "code",
   "execution_count": 41,
   "id": "3b42f73a",
   "metadata": {},
   "outputs": [],
   "source": [
    "from sklearn.preprocessing import StandardScaler\n",
    "\n",
    "scaler = StandardScaler()\n",
    "\n",
    "train_x_scaled = scaler.fit_transform(train_x)\n",
    "\n",
    "# Saving the scaler to the local file system\n",
    "scaler_filename = 'Model/new_standard_scaler.pickle'\n",
    "with open(scaler_filename, 'wb') as f:\n",
    "    pickle.dump(scaler, f)\n",
    "\n",
    "test_x_scaled = scaler.transform(test_x)"
   ]
  },
  {
   "cell_type": "code",
   "execution_count": 42,
   "id": "a5eadc21",
   "metadata": {},
   "outputs": [],
   "source": [
    "#Defining a function to calculate adjusted R2\n",
    "\n",
    "def adj_r2(x,y,model):\n",
    "    r2 = model.score(x,y) # calculating r2\n",
    "    n = x.shape[0] # observations in dataset\n",
    "    p = x.shape[1] # features in dataset\n",
    "    adjusted_r2 = 1-(1-r2)*(n-1)/(n-p-1)\n",
    "    return adjusted_r2"
   ]
  },
  {
   "cell_type": "markdown",
   "id": "c29fe65e",
   "metadata": {},
   "source": [
    "### Linear Regression"
   ]
  },
  {
   "cell_type": "code",
   "execution_count": 43,
   "id": "db46fd1b",
   "metadata": {},
   "outputs": [],
   "source": [
    "from sklearn.linear_model import LinearRegression, ElasticNet, ElasticNetCV\n",
    "from sklearn.metrics import r2_score, mean_squared_error\n",
    "\n",
    "lr = LinearRegression()"
   ]
  },
  {
   "cell_type": "code",
   "execution_count": 44,
   "id": "d76221a5",
   "metadata": {},
   "outputs": [
    {
     "data": {
      "text/plain": [
       "LinearRegression()"
      ]
     },
     "execution_count": 44,
     "metadata": {},
     "output_type": "execute_result"
    }
   ],
   "source": [
    "# fitting model\n",
    "lr.fit(train_x_scaled, train_y)"
   ]
  },
  {
   "cell_type": "code",
   "execution_count": 45,
   "id": "06b9ea24",
   "metadata": {},
   "outputs": [
    {
     "name": "stdout",
     "output_type": "stream",
     "text": [
      "R2: 0.7867942961297549\n",
      "Adj R2: 0.7814845755352853\n"
     ]
    }
   ],
   "source": [
    "# Score on training data\n",
    "print('R2:', lr.score(train_x_scaled, train_y))\n",
    "print('Adj R2:', adj_r2(train_x_scaled, train_y, lr))"
   ]
  },
  {
   "cell_type": "code",
   "execution_count": 46,
   "id": "4af27cb9",
   "metadata": {},
   "outputs": [
    {
     "name": "stdout",
     "output_type": "stream",
     "text": [
      "R2: 0.7625628762316425\n",
      "Adj R2: 0.7438557089044386\n"
     ]
    }
   ],
   "source": [
    "# Score on testing data\n",
    "print('R2:', lr.score(test_x_scaled, test_y))\n",
    "print('Adj R2:', adj_r2(test_x_scaled, test_y, lr))"
   ]
  },
  {
   "cell_type": "markdown",
   "id": "aea250af",
   "metadata": {},
   "source": [
    "### Elastic Net Regression"
   ]
  },
  {
   "cell_type": "code",
   "execution_count": 47,
   "id": "64e787af",
   "metadata": {},
   "outputs": [
    {
     "data": {
      "text/plain": [
       "ElasticNetCV(cv=10)"
      ]
     },
     "execution_count": 47,
     "metadata": {},
     "output_type": "execute_result"
    }
   ],
   "source": [
    "elastic_cv = ElasticNetCV(alphas=None, cv=10) # 10 fold cross validation\n",
    "\n",
    "elastic_cv.fit(train_x_scaled, train_y)"
   ]
  },
  {
   "cell_type": "code",
   "execution_count": 48,
   "id": "62b68674",
   "metadata": {},
   "outputs": [
    {
     "data": {
      "text/plain": [
       "0.011794398225358861"
      ]
     },
     "execution_count": 48,
     "metadata": {},
     "output_type": "execute_result"
    }
   ],
   "source": [
    "alpha = elastic_cv.alpha_\n",
    "alpha"
   ]
  },
  {
   "cell_type": "code",
   "execution_count": 49,
   "id": "9742ab40",
   "metadata": {},
   "outputs": [
    {
     "data": {
      "text/plain": [
       "0.5"
      ]
     },
     "execution_count": 49,
     "metadata": {},
     "output_type": "execute_result"
    }
   ],
   "source": [
    "l1_ratio = elastic_cv.l1_ratio\n",
    "l1_ratio"
   ]
  },
  {
   "cell_type": "code",
   "execution_count": 50,
   "id": "41b0630e",
   "metadata": {},
   "outputs": [
    {
     "data": {
      "text/plain": [
       "ElasticNet(alpha=0.011794398225358861)"
      ]
     },
     "execution_count": 50,
     "metadata": {},
     "output_type": "execute_result"
    }
   ],
   "source": [
    "# fitting model\n",
    "er = ElasticNet(alpha=alpha, l1_ratio=l1_ratio)\n",
    "er.fit(train_x_scaled, train_y)"
   ]
  },
  {
   "cell_type": "code",
   "execution_count": 51,
   "id": "1187f031",
   "metadata": {},
   "outputs": [
    {
     "name": "stdout",
     "output_type": "stream",
     "text": [
      "Adj R2: 0.7811245402911324\n"
     ]
    }
   ],
   "source": [
    "# Score on training data\n",
    "print('Adj R2:', adj_r2(train_x_scaled, train_y, er))"
   ]
  },
  {
   "cell_type": "code",
   "execution_count": 52,
   "id": "a4368492",
   "metadata": {},
   "outputs": [
    {
     "name": "stdout",
     "output_type": "stream",
     "text": [
      "Adj R2: 0.7429560769422162\n"
     ]
    }
   ],
   "source": [
    "# Score on testing data\n",
    "print('Adj R2:', adj_r2(test_x_scaled, test_y, er))"
   ]
  },
  {
   "cell_type": "code",
   "execution_count": 53,
   "id": "f6549ca4",
   "metadata": {},
   "outputs": [
    {
     "name": "stdout",
     "output_type": "stream",
     "text": [
      "\n",
      "R2 on train:  0.7641907698588881\n",
      "\\Adj R2 on test:  0.7295966240653703\n"
     ]
    }
   ],
   "source": [
    "from sklearn.model_selection import cross_val_score, RepeatedKFold\n",
    "\n",
    "folds = RepeatedKFold(n_splits=10, n_repeats=3, random_state=10)\n",
    "\n",
    "train_scores = cross_val_score(er, train_x_scaled, train_y, scoring='r2', cv=folds)\n",
    "test_scores = cross_val_score(er, test_x_scaled, test_y, scoring='r2', cv=folds)\n",
    "\n",
    "print(\"\\nR2 on train: \", np.median(train_scores))\n",
    "print(\"\\Adj R2 on test: \", np.median(test_scores))"
   ]
  },
  {
   "cell_type": "markdown",
   "id": "0091ee0f",
   "metadata": {},
   "source": [
    "### Hyperparameter Tuning"
   ]
  },
  {
   "cell_type": "code",
   "execution_count": 54,
   "id": "d417de55",
   "metadata": {},
   "outputs": [
    {
     "name": "stdout",
     "output_type": "stream",
     "text": [
      "Fitting 10 folds for each of 25 candidates, totalling 250 fits\n"
     ]
    },
    {
     "data": {
      "text/plain": [
       "GridSearchCV(cv=10, estimator=ElasticNet(alpha=0.011794398225358861), n_jobs=-1,\n",
       "             param_grid={'alpha': [0.01, 0.02, 0.03, 0.04, 0.05],\n",
       "                         'l1_ratio': [0.5, 0.6, 0.7, 0.8, 0.9]},\n",
       "             scoring='r2', verbose=3)"
      ]
     },
     "execution_count": 54,
     "metadata": {},
     "output_type": "execute_result"
    }
   ],
   "source": [
    "from sklearn.model_selection import GridSearchCV\n",
    "\n",
    "params={\n",
    "    'alpha': [0.01, 0.02, 0.03, 0.04, 0.05],\n",
    "    'l1_ratio': [0.5, 0.6, 0.7, 0.8, 0.9]\n",
    "}\n",
    "\n",
    "gcv = GridSearchCV(er, param_grid=params, scoring='r2', n_jobs=-1, cv=10, verbose=3)\n",
    "\n",
    "gcv.fit(train_x_scaled, train_y)"
   ]
  },
  {
   "cell_type": "code",
   "execution_count": 55,
   "id": "7309c220",
   "metadata": {},
   "outputs": [
    {
     "data": {
      "text/plain": [
       "0.7510721875544947"
      ]
     },
     "execution_count": 55,
     "metadata": {},
     "output_type": "execute_result"
    }
   ],
   "source": [
    "gcv.best_score_"
   ]
  },
  {
   "cell_type": "code",
   "execution_count": 56,
   "id": "fa4809d1",
   "metadata": {},
   "outputs": [
    {
     "data": {
      "text/plain": [
       "{'alpha': 0.01, 'l1_ratio': 0.7}"
      ]
     },
     "execution_count": 56,
     "metadata": {},
     "output_type": "execute_result"
    }
   ],
   "source": [
    "gcv.best_params_"
   ]
  },
  {
   "cell_type": "code",
   "execution_count": 57,
   "id": "618b8c11",
   "metadata": {},
   "outputs": [
    {
     "data": {
      "text/plain": [
       "ElasticNet(alpha=0.01, l1_ratio=0.7)"
      ]
     },
     "execution_count": 57,
     "metadata": {},
     "output_type": "execute_result"
    }
   ],
   "source": [
    "model = ElasticNet(alpha = gcv.best_params_['alpha'], l1_ratio = gcv.best_params_['l1_ratio'])\n",
    "\n",
    "model.fit(train_x_scaled, train_y)"
   ]
  },
  {
   "cell_type": "code",
   "execution_count": 58,
   "id": "8482ce6c",
   "metadata": {},
   "outputs": [
    {
     "name": "stdout",
     "output_type": "stream",
     "text": [
      "Adj R2: 0.7812767777375308\n"
     ]
    }
   ],
   "source": [
    "# Score on training data\n",
    "print('Adj R2:', adj_r2(train_x_scaled, train_y, model))"
   ]
  },
  {
   "cell_type": "code",
   "execution_count": 59,
   "id": "5944b0ba",
   "metadata": {},
   "outputs": [
    {
     "name": "stdout",
     "output_type": "stream",
     "text": [
      "Adj R2: 0.7433194775509504\n"
     ]
    }
   ],
   "source": [
    "# Score on testing data\n",
    "print('Adj R2:', adj_r2(test_x_scaled, test_y, model))"
   ]
  },
  {
   "cell_type": "code",
   "execution_count": 60,
   "id": "8b46d1f1",
   "metadata": {},
   "outputs": [],
   "source": [
    "# Saving the model to the local file system\n",
    "filename = 'Model/final_model.pickle'\n",
    "\n",
    "with open(filename, 'wb') as f:\n",
    "    pickle.dump(model, f)"
   ]
  }
 ],
 "metadata": {
  "kernelspec": {
   "display_name": "Python 3 (ipykernel)",
   "language": "python",
   "name": "python3"
  },
  "language_info": {
   "codemirror_mode": {
    "name": "ipython",
    "version": 3
   },
   "file_extension": ".py",
   "mimetype": "text/x-python",
   "name": "python",
   "nbconvert_exporter": "python",
   "pygments_lexer": "ipython3",
   "version": "3.8.12"
  },
  "toc": {
   "base_numbering": 1,
   "nav_menu": {},
   "number_sections": true,
   "sideBar": true,
   "skip_h1_title": false,
   "title_cell": "Table of Contents",
   "title_sidebar": "Contents",
   "toc_cell": false,
   "toc_position": {},
   "toc_section_display": true,
   "toc_window_display": false
  }
 },
 "nbformat": 4,
 "nbformat_minor": 5
}
